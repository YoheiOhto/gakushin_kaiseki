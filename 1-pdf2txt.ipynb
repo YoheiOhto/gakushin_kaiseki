{
 "cells": [
  {
   "cell_type": "markdown",
   "metadata": {},
   "source": [
    " * @ Author: Yohei Ohto\n",
    " * @ Create Time: 2025-04-03 17:57:05\n",
    " * @ Modified time: 2025-04-03 17:57:11\n",
    " * @ Description: pdfをテキストファイルに変換"
   ]
  },
  {
   "cell_type": "code",
   "execution_count": 1,
   "metadata": {},
   "outputs": [],
   "source": [
    "import glob\n",
    "\n",
    "DATA_DIR = \"./data/saiyo/*\"\n",
    "paths = glob.glob(DATA_DIR)"
   ]
  },
  {
   "cell_type": "code",
   "execution_count": 7,
   "metadata": {},
   "outputs": [
    {
     "name": "stdout",
     "output_type": "stream",
     "text": [
      "Collecting pymupdf\n",
      "  Downloading pymupdf-1.25.5-cp39-abi3-manylinux2014_x86_64.manylinux_2_17_x86_64.whl.metadata (3.4 kB)\n",
      "Downloading pymupdf-1.25.5-cp39-abi3-manylinux2014_x86_64.manylinux_2_17_x86_64.whl (20.0 MB)\n",
      "\u001b[2K   \u001b[90m━━━━━━━━━━━━━━━━━━━━━━━━━━━━━━━━━━━━━━━━\u001b[0m \u001b[32m20.0/20.0 MB\u001b[0m \u001b[31m2.9 MB/s\u001b[0m eta \u001b[36m0:00:00\u001b[0ma \u001b[36m0:00:01\u001b[0m\n",
      "\u001b[?25hInstalling collected packages: pymupdf\n",
      "Successfully installed pymupdf-1.25.5\n"
     ]
    }
   ],
   "source": [
    "!pip install pymupdf"
   ]
  },
  {
   "cell_type": "code",
   "execution_count": 10,
   "metadata": {},
   "outputs": [
    {
     "name": "stdout",
     "output_type": "stream",
     "text": [
      "テキストを ./data/saiyo/R5_DC1_saiyou_extracted.txt に保存しました！\n",
      "テキストを ./data/saiyo/R6_DC1_saiyou_extracted.txt に保存しました！\n",
      "テキストを ./data/saiyo/R4_DC1_saiyou_extracted.txt に保存しました！\n",
      "テキストを ./data/saiyo/R2_DC1_saiyou_extracted.txt に保存しました！\n",
      "テキストを ./data/saiyo/R3_DC1_saiyou_extracted.txt に保存しました！\n"
     ]
    }
   ],
   "source": [
    "import fitz  # PyMuPDF\n",
    "\n",
    "for path in paths:\n",
    "    pdf_path = path  # 最初のPDFファイルを選択\n",
    "    output_path = pdf_path.replace(\".pdf\", \"_extracted.txt\")\n",
    "\n",
    "    # PDF を開く\n",
    "    pdf_document = fitz.open(pdf_path)\n",
    "\n",
    "    extracted_text = \"\"\n",
    "\n",
    "    # 各ページのテキストを抽出\n",
    "    for page_num in range(len(pdf_document)):\n",
    "        page = pdf_document[page_num]\n",
    "        text = page.get_text(\"text\")  # テキストを取得\n",
    "        extracted_text += f\"--- Page {page_num + 1} ---\\n{text}\\n\\n\"\n",
    "\n",
    "    # テキストを保存\n",
    "    with open(output_path, \"w\", encoding=\"utf-8\") as file:\n",
    "        file.write(extracted_text)\n",
    "\n",
    "    print(f\"テキストを {output_path} に保存しました！\")\n"
   ]
  },
  {
   "cell_type": "code",
   "execution_count": 11,
   "metadata": {},
   "outputs": [
    {
     "name": "stdout",
     "output_type": "stream",
     "text": [
      "半角カタカナの次の行を ./data/saiyo/R5_DC1_saiyou_filtered.txt に保存しました！\n",
      "半角カタカナの次の行を ./data/saiyo/R6_DC1_saiyou_filtered.txt に保存しました！\n",
      "半角カタカナの次の行を ./data/saiyo/R4_DC1_saiyou_filtered.txt に保存しました！\n",
      "半角カタカナの次の行を ./data/saiyo/R2_DC1_saiyou_filtered.txt に保存しました！\n",
      "半角カタカナの次の行を ./data/saiyo/R3_DC1_saiyou_filtered.txt に保存しました！\n"
     ]
    }
   ],
   "source": [
    "import re\n",
    "\n",
    "for path in paths:\n",
    "    output_path = path.replace(\".pdf\", \"_extracted.txt\")  # 抽出済みテキストファイル\n",
    "\n",
    "    extracted_lines = []\n",
    "    \n",
    "    # テキストを読み込む\n",
    "    with open(output_path, \"r\", encoding=\"utf-8\") as file:\n",
    "        lines = file.readlines()\n",
    "\n",
    "    # 正規表現で半角カタカナを判定\n",
    "    halfwidth_katakana_pattern = re.compile(r\"[\\uFF61-\\uFF9F]+\")  # 半角カタカナの範囲\n",
    "\n",
    "    for i in range(len(lines) - 1):  # 最後の行は対象外\n",
    "        if halfwidth_katakana_pattern.search(lines[i]):  # 現在の行に半角カタカナがある場合\n",
    "            extracted_lines.append(lines[i + 1].strip())  # 次の行を追加\n",
    "\n",
    "    # 結果を保存\n",
    "    result_path = path.replace(\".pdf\", \"_filtered.txt\")\n",
    "    with open(result_path, \"w\", encoding=\"utf-8\") as result_file:\n",
    "        result_file.write(\"\\n\".join(extracted_lines))\n",
    "\n",
    "    print(f\"半角カタカナの次の行を {result_path} に保存しました！\")"
   ]
  },
  {
   "cell_type": "code",
   "execution_count": null,
   "metadata": {},
   "outputs": [
    {
     "name": "stdout",
     "output_type": "stream",
     "text": [
      "タグの出現回数を ./data/saiyo/R5_DC1_saiyou_tag_counts.txt に保存しました！\n",
      "タグの出現回数を ./data/saiyo/R6_DC1_saiyou_tag_counts.txt に保存しました！\n",
      "タグの出現回数を ./data/saiyo/R4_DC1_saiyou_tag_counts.txt に保存しました！\n",
      "タグの出現回数を ./data/saiyo/R2_DC1_saiyou_tag_counts.txt に保存しました！\n",
      "タグの出現回数を ./data/saiyo/R3_DC1_saiyou_tag_counts.txt に保存しました！\n"
     ]
    }
   ],
   "source": [
    "from collections import Counter\n",
    "\n",
    "for path in paths:\n",
    "    output_path = path.replace(\".pdf\", \"_filtered.txt\")  # テキスト抽出後のファイル\n",
    "\n",
    "    # タグごとのカウント用辞書\n",
    "    tag_counter = Counter()\n",
    "    \n",
    "    # テキストを読み込む\n",
    "    with open(output_path, \"r\", encoding=\"utf-8\") as file:\n",
    "        lines = file.readlines()\n",
    "\n",
    "    for line in lines:\n",
    "        line = line.strip()\n",
    "        tag_counter[line] += 1  # カウントを増やす\n",
    "\n",
    "    # 結果を保存\n",
    "    result_path = path.replace(\".pdf\", \"_tag_counts.txt\")\n",
    "    with open(result_path, \"w\", encoding=\"utf-8\") as result_file:\n",
    "        for tag, count in tag_counter.items():\n",
    "            result_file.write(f\"{tag}: {count}\\n\")\n",
    "\n",
    "    print(f\"タグの出現回数を {result_path} に保存しました！\")"
   ]
  },
  {
   "cell_type": "code",
   "execution_count": 16,
   "metadata": {},
   "outputs": [
    {
     "name": "stdout",
     "output_type": "stream",
     "text": [
      "タグの出現回数を tag_counts_summary.csv に保存しました！\n"
     ]
    }
   ],
   "source": [
    "import re\n",
    "import csv\n",
    "from collections import Counter\n",
    "\n",
    "# 指定したタグ\n",
    "target_tags = [\"薬系化学および創薬科学関連\", \"薬系分析および物理化学関連\", \"薬理学関連\", \"医療薬学関連\", \"生命、健康および医療情報学\", \"医療技術評価学関連\"]  # ここにカウントしたいタグを指定\n",
    "\n",
    "# 結果を保存するリスト（CSV出力用）\n",
    "csv_data = [[\"file\"] + target_tags]\n",
    "\n",
    "for path in paths:\n",
    "    output_path = path.replace(\".pdf\", \"_extracted.txt\")  # PDFから抽出したテキストファイル\n",
    "\n",
    "    # タグごとのカウント用辞書\n",
    "    tag_counter = Counter()\n",
    "    \n",
    "    # テキストを読み込む\n",
    "    with open(output_path, \"r\", encoding=\"utf-8\") as file:\n",
    "        lines = file.readlines()\n",
    "\n",
    "\n",
    "    for line in lines:\n",
    "        line = line.strip()\n",
    "        tag_counter[line] += 1  # カウントを増やす\n",
    "\n",
    "    # 指定したタグのみをフィルタリングし、CSV用リストに追加\n",
    "    row = [path] + [tag_counter[tag] for tag in target_tags]\n",
    "    csv_data.append(row)\n",
    "\n",
    "# 結果を1つのCSVファイルに保存\n",
    "csv_filename = \"tag_counts_summary.csv\"\n",
    "with open(csv_filename, \"w\", encoding=\"utf-8\", newline=\"\") as file:\n",
    "    writer = csv.writer(file)\n",
    "    writer.writerows(csv_data)\n",
    "\n",
    "print(f\"タグの出現回数を {csv_filename} に保存しました！\")"
   ]
  },
  {
   "cell_type": "code",
   "execution_count": null,
   "metadata": {},
   "outputs": [],
   "source": []
  }
 ],
 "metadata": {
  "kernelspec": {
   "display_name": "250102_test_env",
   "language": "python",
   "name": "250102_test_env"
  },
  "language_info": {
   "codemirror_mode": {
    "name": "ipython",
    "version": 3
   },
   "file_extension": ".py",
   "mimetype": "text/x-python",
   "name": "python",
   "nbconvert_exporter": "python",
   "pygments_lexer": "ipython3",
   "version": "3.11.4"
  }
 },
 "nbformat": 4,
 "nbformat_minor": 2
}
